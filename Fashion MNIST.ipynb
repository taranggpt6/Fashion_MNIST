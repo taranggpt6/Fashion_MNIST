{
 "cells": [
  {
   "cell_type": "code",
   "execution_count": 3,
   "metadata": {},
   "outputs": [],
   "source": [
    "import tensorflow as tf\n",
    "from tensorflow import keras\n",
    "from keras.datasets import fashion_mnist\n",
    "\n",
    "import numpy as np\n",
    "from skimage import io\n",
    "\n",
    "import matplotlib.pyplot as plt\n",
    "import seaborn as sb\n",
    "\n",
    "import warnings\n",
    "warnings.filterwarnings('ignore')"
   ]
  },
  {
   "cell_type": "code",
   "execution_count": 4,
   "metadata": {},
   "outputs": [],
   "source": [
    "#loading the dataset\n",
    "(train_img, train_lab) , (test_img, test_lab) = fashion_mnist.load_data()"
   ]
  },
  {
   "cell_type": "code",
   "execution_count": 5,
   "metadata": {},
   "outputs": [
    {
     "name": "stdout",
     "output_type": "stream",
     "text": [
      "(60000, 28, 28)\n",
      "(60000,)\n",
      "(10000, 28, 28)\n",
      "(10000,)\n"
     ]
    }
   ],
   "source": [
    "#train size\n",
    "print(train_img.shape)\n",
    "print(train_lab.shape)\n",
    "\n",
    "#test size\n",
    "print(test_img.shape)\n",
    "print(test_lab.shape)"
   ]
  },
  {
   "cell_type": "code",
   "execution_count": 6,
   "metadata": {},
   "outputs": [
    {
     "name": "stdout",
     "output_type": "stream",
     "text": [
      "(28, 28)\n",
      "()\n",
      "(28, 28)\n",
      "()\n"
     ]
    }
   ],
   "source": [
    "print(train_img[0].shape) #image size\n",
    "print(train_lab[0].shape) #label\n",
    "print(test_img[0].shape) #image size\n",
    "print(test_lab[0].shape) #label"
   ]
  },
  {
   "cell_type": "code",
   "execution_count": 7,
   "metadata": {},
   "outputs": [
    {
     "data": {
      "text/plain": [
       "9    6000\n",
       "8    6000\n",
       "7    6000\n",
       "6    6000\n",
       "5    6000\n",
       "4    6000\n",
       "3    6000\n",
       "2    6000\n",
       "1    6000\n",
       "0    6000\n",
       "Name: Labels, dtype: int64"
      ]
     },
     "execution_count": 7,
     "metadata": {},
     "output_type": "execute_result"
    }
   ],
   "source": [
    "#unique classes in train\n",
    "# set(train_lab) \n",
    "\n",
    "import pandas as pd\n",
    "\n",
    "df = pd.DataFrame({'Labels': train_lab})\n",
    "df.Labels.value_counts()\n",
    "# plt.pie()"
   ]
  },
  {
   "cell_type": "code",
   "execution_count": 8,
   "metadata": {},
   "outputs": [
    {
     "name": "stdout",
     "output_type": "stream",
     "text": [
      "(28, 28)\n",
      "2\n",
      "40532\n"
     ]
    },
    {
     "data": {
      "text/plain": [
       "<matplotlib.image.AxesImage at 0x136e9029688>"
      ]
     },
     "execution_count": 8,
     "metadata": {},
     "output_type": "execute_result"
    },
    {
     "data": {
      "image/png": "[encoded data removed]",
      "text/plain": [
       "<Figure size 432x288 with 1 Axes>"
      ]
     },
     "metadata": {
      "needs_background": "light"
     },
     "output_type": "display_data"
    }
   ],
   "source": [
    "#let's view the image\n",
    "\n",
    "index = np.random.randint(0,len(train_img))\n",
    "\n",
    "print(train_img[index].shape)\n",
    "print(train_lab[index])\n",
    "print(index)\n",
    "io.imshow(train_img[index])"
   ]
  },
  {
   "cell_type": "code",
   "execution_count": 9,
   "metadata": {},
   "outputs": [
    {
     "name": "stdout",
     "output_type": "stream",
     "text": [
      "(60000, 28, 28)\n",
      "(10000, 28, 28)\n",
      "\n",
      "--------------------\n",
      "\n",
      "(60000, 28, 28, 1)\n",
      "(10000, 28, 28, 1)\n"
     ]
    }
   ],
   "source": [
    "# Since we have one channel images i.e. Black and white the dimensions of input to the Network must be (Z,x,y,1)\n",
    "# Let's Reshape that\n",
    "\n",
    "print(train_img.shape)\n",
    "print(test_img.shape)\n",
    "print('\\n'+'-'*20+'\\n')\n",
    "X_train = train_img.reshape(train_img.shape[0],28,28,1)\n",
    "#Same for test set also\n",
    "X_test = test_img.reshape(test_img.shape[0],28,28,1)\n",
    "\n",
    "#normalizing the images\n",
    "X_train = X_train/255\n",
    "X_test = X_test/255\n",
    "\n",
    "print(X_train.shape)\n",
    "print(X_test.shape)"
   ]
  },
  {
   "cell_type": "code",
   "execution_count": 10,
   "metadata": {},
   "outputs": [
    {
     "name": "stdout",
     "output_type": "stream",
     "text": [
      "[9 0 0 ... 3 0 5]\n",
      "(60000,)\n",
      "[9 2 1 ... 8 1 5]\n",
      "(10000,)\n",
      "--------------------\n",
      "After One hot encoding of Lables :\n",
      "(60000, 10)\n",
      "(10000, 10)\n"
     ]
    }
   ],
   "source": [
    "#Similarly Lables must be reshaped \n",
    "print(train_lab)\n",
    "print(train_lab.shape)\n",
    "#test\n",
    "print(test_lab)\n",
    "print(test_lab.shape)\n",
    "\n",
    "y_train = keras.utils.to_categorical(train_lab,10)\n",
    "y_test = keras.utils.to_categorical(test_lab,10)\n",
    "print('-'*20+'\\nAfter One hot encoding of Lables :')\n",
    "print(y_train.shape)\n",
    "print(y_test.shape)"
   ]
  },
  {
   "cell_type": "markdown",
   "metadata": {},
   "source": [
    "#### Model Building"
   ]
  },
  {
   "cell_type": "code",
   "execution_count": 11,
   "metadata": {},
   "outputs": [],
   "source": [
    "from keras.models import Sequential\n",
    "from keras.layers import Dense, Conv2D, MaxPooling2D, Flatten, Dropout\n",
    "from keras.callbacks import ModelCheckpoint, EarlyStopping"
   ]
  },
  {
   "cell_type": "code",
   "execution_count": 11,
   "metadata": {},
   "outputs": [
    {
     "name": "stdout",
     "output_type": "stream",
     "text": [
      "WARNING:tensorflow:From C:\\Users\\Tamma\\Anaconda3\\lib\\site-packages\\tensorflow\\python\\framework\\op_def_library.py:263: colocate_with (from tensorflow.python.framework.ops) is deprecated and will be removed in a future version.\n",
      "Instructions for updating:\n",
      "Colocations handled automatically by placer.\n",
      "_________________________________________________________________\n",
      "Layer (type)                 Output Shape              Param #   \n",
      "=================================================================\n",
      "conv2d_1 (Conv2D)            (None, 28, 28, 16)        160       \n",
      "_________________________________________________________________\n",
      "conv2d_2 (Conv2D)            (None, 26, 26, 32)        4640      \n",
      "_________________________________________________________________\n",
      "max_pooling2d_1 (MaxPooling2 (None, 13, 13, 32)        0         \n",
      "_________________________________________________________________\n",
      "flatten_1 (Flatten)          (None, 5408)              0         \n",
      "_________________________________________________________________\n",
      "dense_1 (Dense)              (None, 64)                346176    \n",
      "_________________________________________________________________\n",
      "dense_2 (Dense)              (None, 10)                650       \n",
      "=================================================================\n",
      "Total params: 351,626\n",
      "Trainable params: 351,626\n",
      "Non-trainable params: 0\n",
      "_________________________________________________________________\n"
     ]
    }
   ],
   "source": [
    "model = Sequential([\n",
    "                    Conv2D(16,kernel_size=(3,3), input_shape = (28,28,1), activation='relu',padding='same')\n",
    "])\n",
    "\n",
    "model.add(Conv2D(32,kernel_size=(3,3),activation='relu',padding='valid'))\n",
    "model.add(MaxPooling2D(pool_size=(2,2)))\n",
    "\n",
    "model.add(Flatten())\n",
    "model.add(Dense(64,activation='relu'))\n",
    "model.add(Dense(10,activation='softmax'))\n",
    "model.summary()"
   ]
  },
  {
   "cell_type": "code",
   "execution_count": 12,
   "metadata": {},
   "outputs": [
    {
     "name": "stdout",
     "output_type": "stream",
     "text": [
      "WARNING:tensorflow:From C:\\Users\\Tamma\\Anaconda3\\lib\\site-packages\\tensorflow\\python\\ops\\math_ops.py:3066: to_int32 (from tensorflow.python.ops.math_ops) is deprecated and will be removed in a future version.\n",
      "Instructions for updating:\n",
      "Use tf.cast instead.\n",
      "Train on 60000 samples, validate on 10000 samples\n",
      "Epoch 1/10\n",
      "60000/60000 [==============================] - 134s 2ms/step - loss: 0.7009 - categorical_accuracy: 0.7482 - val_loss: 0.5143 - val_categorical_accuracy: 0.8091\n",
      "Epoch 2/10\n",
      "60000/60000 [==============================] - 121s 2ms/step - loss: 0.4585 - categorical_accuracy: 0.8356 - val_loss: 0.4584 - val_categorical_accuracy: 0.8314\n",
      "Epoch 3/10\n",
      "60000/60000 [==============================] - 127s 2ms/step - loss: 0.3946 - categorical_accuracy: 0.8586 - val_loss: 0.3913 - val_categorical_accuracy: 0.8602\n",
      "Epoch 4/10\n",
      "60000/60000 [==============================] - 123s 2ms/step - loss: 0.3547 - categorical_accuracy: 0.8725 - val_loss: 0.3578 - val_categorical_accuracy: 0.8718\n",
      "Epoch 5/10\n",
      "60000/60000 [==============================] - 123s 2ms/step - loss: 0.3262 - categorical_accuracy: 0.8838 - val_loss: 0.3410 - val_categorical_accuracy: 0.8772\n",
      "Epoch 6/10\n",
      "60000/60000 [==============================] - 125s 2ms/step - loss: 0.3031 - categorical_accuracy: 0.8906 - val_loss: 0.3324 - val_categorical_accuracy: 0.8784\n",
      "Epoch 7/10\n",
      "60000/60000 [==============================] - 126s 2ms/step - loss: 0.2846 - categorical_accuracy: 0.8969 - val_loss: 0.3077 - val_categorical_accuracy: 0.8872\n",
      "Epoch 8/10\n",
      "60000/60000 [==============================] - 124s 2ms/step - loss: 0.2696 - categorical_accuracy: 0.9016 - val_loss: 0.3032 - val_categorical_accuracy: 0.8909\n",
      "Epoch 9/10\n",
      "60000/60000 [==============================] - 127s 2ms/step - loss: 0.2555 - categorical_accuracy: 0.9077 - val_loss: 0.3079 - val_categorical_accuracy: 0.8899\n",
      "Epoch 10/10\n",
      "60000/60000 [==============================] - 125s 2ms/step - loss: 0.2443 - categorical_accuracy: 0.9113 - val_loss: 0.2914 - val_categorical_accuracy: 0.8964\n"
     ]
    },
    {
     "data": {
      "text/plain": [
       "<keras.callbacks.History at 0x248f39e3208>"
      ]
     },
     "execution_count": 12,
     "metadata": {},
     "output_type": "execute_result"
    }
   ],
   "source": [
    "\n",
    "model.compile(optimizer='sgd',loss=keras.losses.categorical_crossentropy, metrics=[keras.metrics.categorical_accuracy])\n",
    "\n",
    "model.fit(X_train,y_train,\n",
    "          batch_size=32,epochs=10,verbose=1,class_weight=None,\n",
    "          validation_data=(X_test,y_test))"
   ]
  },
  {
   "cell_type": "code",
   "execution_count": 15,
   "metadata": {},
   "outputs": [],
   "source": [
    "#Let's try to decrease teh model parameters and see how it works"
   ]
  },
  {
   "cell_type": "code",
   "execution_count": 14,
   "metadata": {
    "scrolled": true
   },
   "outputs": [
    {
     "name": "stdout",
     "output_type": "stream",
     "text": [
      "_________________________________________________________________\n",
      "Layer (type)                 Output Shape              Param #   \n",
      "=================================================================\n",
      "conv2d_2 (Conv2D)            (None, 28, 28, 8)         80        \n",
      "_________________________________________________________________\n",
      "max_pooling2d_2 (MaxPooling2 (None, 14, 14, 8)         0         \n",
      "_________________________________________________________________\n",
      "flatten_2 (Flatten)          (None, 1568)              0         \n",
      "_________________________________________________________________\n",
      "dense_3 (Dense)              (None, 32)                50208     \n",
      "_________________________________________________________________\n",
      "dense_4 (Dense)              (None, 10)                330       \n",
      "=================================================================\n",
      "Total params: 50,618\n",
      "Trainable params: 50,618\n",
      "Non-trainable params: 0\n",
      "_________________________________________________________________\n"
     ]
    }
   ],
   "source": [
    "model = Sequential([\n",
    "                    Conv2D(8,kernel_size=(3,3), input_shape = (28,28,1), activation='relu',padding='same')\n",
    "])\n",
    "\n",
    "model.add(MaxPooling2D(pool_size=(2,2)))\n",
    "\n",
    "model.add(Flatten())\n",
    "model.add(Dense(32,activation='relu'))\n",
    "model.add(Dense(10,activation='softmax'))\n",
    "model.summary()"
   ]
  },
  {
   "cell_type": "code",
   "execution_count": 13,
   "metadata": {
    "scrolled": false
   },
   "outputs": [
    {
     "name": "stdout",
     "output_type": "stream",
     "text": [
      "WARNING:tensorflow:From C:\\Users\\Tamma\\Anaconda3\\lib\\site-packages\\tensorflow\\python\\ops\\math_ops.py:3066: to_int32 (from tensorflow.python.ops.math_ops) is deprecated and will be removed in a future version.\n",
      "Instructions for updating:\n",
      "Use tf.cast instead.\n",
      "Train on 60000 samples, validate on 10000 samples\n",
      "Epoch 1/20\n",
      "60000/60000 [==============================] - 25s 418us/step - loss: 0.7298 - categorical_accuracy: 0.7455 - val_loss: 0.5309 - val_categorical_accuracy: 0.8110\n",
      "\n",
      "Epoch 00001: val_loss improved from inf to 0.53093, saving model to model_epoch__01-val_loss__0.53-val_acc__0.81.hdf5\n",
      "Epoch 2/20\n",
      "60000/60000 [==============================] - 22s 366us/step - loss: 0.4794 - categorical_accuracy: 0.8301 - val_loss: 0.4582 - val_categorical_accuracy: 0.8350\n",
      "\n",
      "Epoch 00002: val_loss improved from 0.53093 to 0.45823, saving model to model_epoch__02-val_loss__0.46-val_acc__0.83.hdf5\n",
      "Epoch 3/20\n",
      "60000/60000 [==============================] - 23s 379us/step - loss: 0.4291 - categorical_accuracy: 0.8484 - val_loss: 0.4351 - val_categorical_accuracy: 0.8431\n",
      "\n",
      "Epoch 00003: val_loss improved from 0.45823 to 0.43507, saving model to model_epoch__03-val_loss__0.44-val_acc__0.84.hdf5\n",
      "Epoch 4/20\n",
      "60000/60000 [==============================] - 22s 374us/step - loss: 0.3986 - categorical_accuracy: 0.8590 - val_loss: 0.3988 - val_categorical_accuracy: 0.8572s - loss: 0.3986 - categorical_accuracy: 0.85 - ETA: 0s - loss: 0.3987 - categorical_accuracy\n",
      "\n",
      "Epoch 00004: val_loss improved from 0.43507 to 0.39881, saving model to model_epoch__04-val_loss__0.40-val_acc__0.86.hdf5\n",
      "Epoch 5/20\n",
      "60000/60000 [==============================] - 21s 354us/step - loss: 0.3752 - categorical_accuracy: 0.8678 - val_loss: 0.4009 - val_categorical_accuracy: 0.8547\n",
      "\n",
      "Epoch 00005: val_loss did not improve from 0.39881\n",
      "Epoch 6/20\n",
      "60000/60000 [==============================] - 22s 361us/step - loss: 0.3583 - categorical_accuracy: 0.8738 - val_loss: 0.3714 - val_categorical_accuracy: 0.8674\n",
      "\n",
      "Epoch 00006: val_loss improved from 0.39881 to 0.37141, saving model to model_epoch__06-val_loss__0.37-val_acc__0.87.hdf5\n",
      "Epoch 7/20\n",
      "60000/60000 [==============================] - 21s 353us/step - loss: 0.3441 - categorical_accuracy: 0.8776 - val_loss: 0.3734 - val_categorical_accuracy: 0.8647\n",
      "\n",
      "Epoch 00007: val_loss did not improve from 0.37141\n",
      "Epoch 8/20\n",
      "60000/60000 [==============================] - 22s 361us/step - loss: 0.3316 - categorical_accuracy: 0.8814 - val_loss: 0.3517 - val_categorical_accuracy: 0.8743\n",
      "\n",
      "Epoch 00008: val_loss improved from 0.37141 to 0.35171, saving model to model_epoch__08-val_loss__0.35-val_acc__0.87.hdf5\n",
      "Epoch 9/20\n",
      "60000/60000 [==============================] - 21s 356us/step - loss: 0.3226 - categorical_accuracy: 0.8846 - val_loss: 0.3519 - val_categorical_accuracy: 0.8728\n",
      "\n",
      "Epoch 00009: val_loss did not improve from 0.35171\n",
      "Epoch 10/20\n",
      "60000/60000 [==============================] - 22s 361us/step - loss: 0.3140 - categorical_accuracy: 0.8880 - val_loss: 0.3420 - val_categorical_accuracy: 0.8781\n",
      "\n",
      "Epoch 00010: val_loss improved from 0.35171 to 0.34200, saving model to model_epoch__10-val_loss__0.34-val_acc__0.88.hdf5\n",
      "Epoch 11/20\n",
      "60000/60000 [==============================] - 22s 373us/step - loss: 0.3051 - categorical_accuracy: 0.8903 - val_loss: 0.3386 - val_categorical_accuracy: 0.8799\n",
      "\n",
      "Epoch 00011: val_loss improved from 0.34200 to 0.33861, saving model to model_epoch__11-val_loss__0.34-val_acc__0.88.hdf5\n",
      "Epoch 12/20\n",
      "60000/60000 [==============================] - 22s 364us/step - loss: 0.2984 - categorical_accuracy: 0.8929 - val_loss: 0.3426 - val_categorical_accuracy: 0.8786\n",
      "\n",
      "Epoch 00012: val_loss did not improve from 0.33861\n",
      "Epoch 13/20\n",
      "60000/60000 [==============================] - 21s 358us/step - loss: 0.2916 - categorical_accuracy: 0.8944 - val_loss: 0.3390 - val_categorical_accuracy: 0.8770\n",
      "\n",
      "Epoch 00013: val_loss did not improve from 0.33861\n",
      "Epoch 14/20\n",
      "60000/60000 [==============================] - 22s 362us/step - loss: 0.2850 - categorical_accuracy: 0.8982 - val_loss: 0.3218 - val_categorical_accuracy: 0.8828\n",
      "\n",
      "Epoch 00014: val_loss improved from 0.33861 to 0.32182, saving model to model_epoch__14-val_loss__0.32-val_acc__0.88.hdf5\n",
      "Epoch 15/20\n",
      "60000/60000 [==============================] - 22s 369us/step - loss: 0.2790 - categorical_accuracy: 0.9003 - val_loss: 0.3231 - val_categorical_accuracy: 0.8825\n",
      "\n",
      "Epoch 00015: val_loss did not improve from 0.32182\n",
      "Epoch 16/20\n",
      "60000/60000 [==============================] - 21s 345us/step - loss: 0.2739 - categorical_accuracy: 0.9015 - val_loss: 0.3176 - val_categorical_accuracy: 0.8839\n",
      "\n",
      "Epoch 00016: val_loss improved from 0.32182 to 0.31762, saving model to model_epoch__16-val_loss__0.32-val_acc__0.88.hdf5\n",
      "Epoch 17/20\n",
      "60000/60000 [==============================] - 21s 351us/step - loss: 0.2694 - categorical_accuracy: 0.9025 - val_loss: 0.3142 - val_categorical_accuracy: 0.8863\n",
      "\n",
      "Epoch 00017: val_loss improved from 0.31762 to 0.31423, saving model to model_epoch__17-val_loss__0.31-val_acc__0.89.hdf5\n",
      "Epoch 18/20\n",
      "60000/60000 [==============================] - 21s 345us/step - loss: 0.2639 - categorical_accuracy: 0.9057 - val_loss: 0.3030 - val_categorical_accuracy: 0.8909\n",
      "\n",
      "Epoch 00018: val_loss improved from 0.31423 to 0.30299, saving model to model_epoch__18-val_loss__0.30-val_acc__0.89.hdf5\n",
      "Epoch 19/20\n",
      "60000/60000 [==============================] - 21s 352us/step - loss: 0.2579 - categorical_accuracy: 0.9065 - val_loss: 0.3024 - val_categorical_accuracy: 0.8906\n",
      "\n",
      "Epoch 00019: val_loss improved from 0.30299 to 0.30236, saving model to model_epoch__19-val_loss__0.30-val_acc__0.89.hdf5\n",
      "Epoch 20/20\n",
      "60000/60000 [==============================] - 21s 346us/step - loss: 0.2540 - categorical_accuracy: 0.9078 - val_loss: 0.3204 - val_categorical_accuracy: 0.8831\n",
      "\n",
      "Epoch 00020: val_loss did not improve from 0.30236\n"
     ]
    },
    {
     "data": {
      "text/plain": [
       "<keras.callbacks.History at 0x136e942cc08>"
      ]
     },
     "execution_count": 13,
     "metadata": {},
     "output_type": "execute_result"
    }
   ],
   "source": [
    "#name of model\n",
    "filepath = 'model_epoch__{epoch:02d}-val_loss__{val_loss:.2f}-val_acc__{val_categorical_accuracy:.2f}.hdf5'\n",
    "#early stpooing\n",
    "early_stop = EarlyStopping(monitor='val_categorical_accuracy',patience=3)\n",
    "#to save the model\n",
    "model_save_checkpoint = ModelCheckpoint(filepath,monitor='val_loss',save_best_only=True,save_weights_only=False,verbose=1)\n",
    "#model compilation\n",
    "model.compile(optimizer='sgd',loss=keras.losses.categorical_crossentropy, metrics=[keras.metrics.categorical_accuracy])\n",
    "#train\n",
    "results = model.fit(X_train,y_train, callbacks=[model_save_checkpoint,early_stop],\n",
    "          batch_size=32,epochs=20,verbose=1,class_weight=None,\n",
    "          validation_data=(X_test,y_test))"
   ]
  },
  {
   "cell_type": "code",
   "execution_count": 69,
   "metadata": {},
   "outputs": [],
   "source": [
    "# 19th epoch model\n",
    "# train 90 and test 89"
   ]
  },
  {
   "cell_type": "code",
   "execution_count": 82,
   "metadata": {},
   "outputs": [],
   "source": [
    "final_model = keras.models.load_model('model_epoch__19-val_loss__0.30-val_acc__0.89.hdf5')\n",
    "\n",
    "def show_random_examples(x, y, p):\n",
    "    indices = np.random.choice(range(x.shape[0]), 10)\n",
    "    \n",
    "    x = x[indices]\n",
    "    y = y[indices]\n",
    "    p = p[indices]\n",
    "    \n",
    "    plt.figure(figsize=(10, 5))\n",
    "    for i in range(10):\n",
    "        plt.subplot(2, 5, 1 + i)\n",
    "        plt. imshow(x[i])\n",
    "        plt.xticks([])\n",
    "        plt.yticks([])\n",
    "        \n",
    "        col = 'green' if np.argmax(y[i]) == np.argmax(p[i]) else 'red'\n",
    "        plt.xlabel('Indicator', color = col)\n",
    "    plt.show()\n"
   ]
  },
  {
   "cell_type": "code",
   "execution_count": 74,
   "metadata": {},
   "outputs": [],
   "source": [
    "y_test_pred = final_model.predict_classes(X_test)"
   ]
  },
  {
   "cell_type": "code",
   "execution_count": 90,
   "metadata": {},
   "outputs": [],
   "source": [
    "# print(len(test_lab))\n",
    "# print(len(y_test_pred))\n",
    "\n",
    "# y_test_pred"
   ]
  },
  {
   "cell_type": "code",
   "execution_count": 91,
   "metadata": {},
   "outputs": [
    {
     "name": "stdout",
     "output_type": "stream",
     "text": [
      "0.8906\n",
      "10000/10000 [==============================] - 4s 362us/sample - loss: 0.3024 - categorical_accuracy: 0.8906\n"
     ]
    },
    {
     "data": {
      "text/plain": [
       "[0.30236323747634886, 0.8906]"
      ]
     },
     "execution_count": 91,
     "metadata": {},
     "output_type": "execute_result"
    }
   ],
   "source": [
    "import sklearn.metrics\n",
    "print(sklearn.metrics.accuracy_score(test_lab,y_test_pred))\n",
    "\n",
    "final_model.evaluate(X_test,y_test)"
   ]
  },
  {
   "cell_type": "code",
   "execution_count": 92,
   "metadata": {},
   "outputs": [
    {
     "data": {
      "text/plain": [
       "['loss', 'categorical_accuracy']"
      ]
     },
     "execution_count": 92,
     "metadata": {},
     "output_type": "execute_result"
    }
   ],
   "source": [
    "final_model.metrics_names"
   ]
  },
  {
   "cell_type": "code",
   "execution_count": 93,
   "metadata": {},
   "outputs": [
    {
     "data": {
      "image/png": "[encoded data removed]",
      "text/plain": [
       "<Figure size 720x360 with 10 Axes>"
      ]
     },
     "metadata": {},
     "output_type": "display_data"
    }
   ],
   "source": [
    "show_random_examples(test_img,test_lab,y_test_pred)"
   ]
  },
  {
   "cell_type": "code",
   "execution_count": null,
   "metadata": {},
   "outputs": [],
   "source": []
  }
 ],
 "metadata": {
  "kernelspec": {
   "display_name": "Python 3",
   "language": "python",
   "name": "python3"
  },
  "language_info": {
   "codemirror_mode": {
    "name": "ipython",
    "version": 3
   },
   "file_extension": ".py",
   "mimetype": "text/x-python",
   "name": "python",
   "nbconvert_exporter": "python",
   "pygments_lexer": "ipython3",
   "version": "3.7.4"
  }
 },
 "nbformat": 4,
 "nbformat_minor": 2
}
